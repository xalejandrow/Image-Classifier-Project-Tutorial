{
 "cells": [
  {
   "cell_type": "code",
   "execution_count": 6,
   "metadata": {},
   "outputs": [
    {
     "name": "stdout",
     "output_type": "stream",
     "text": [
      "\u001b[33mDEPRECATION: Configuring installation scheme with distutils config files is deprecated and will no longer work in the near future. If you are using a Homebrew or Linuxbrew Python, please see discussion at https://github.com/Homebrew/homebrew-core/issues/76621\u001b[0m\n",
      "Collecting opencv-python\n",
      "  Using cached opencv_python-4.6.0.66-cp36-abi3-macosx_10_15_x86_64.whl (46.4 MB)\n",
      "Collecting numpy>=1.14.5\n",
      "  Downloading numpy-1.23.1-cp39-cp39-macosx_10_9_x86_64.whl (18.1 MB)\n",
      "     |████████████████████████████████| 18.1 MB 2.3 MB/s            \n",
      "\u001b[?25hInstalling collected packages: numpy, opencv-python\n",
      "\u001b[33m  DEPRECATION: Configuring installation scheme with distutils config files is deprecated and will no longer work in the near future. If you are using a Homebrew or Linuxbrew Python, please see discussion at https://github.com/Homebrew/homebrew-core/issues/76621\u001b[0m\n",
      "\u001b[33mDEPRECATION: Configuring installation scheme with distutils config files is deprecated and will no longer work in the near future. If you are using a Homebrew or Linuxbrew Python, please see discussion at https://github.com/Homebrew/homebrew-core/issues/76621\u001b[0m\n",
      "Successfully installed numpy-1.23.1 opencv-python-4.6.0.66\n",
      "\u001b[33mWARNING: You are using pip version 21.3.1; however, version 22.2.2 is available.\n",
      "You should consider upgrading via the '/usr/local/opt/python@3.9/bin/python3.9 -m pip install --upgrade pip' command.\u001b[0m\n",
      "Note: you may need to restart the kernel to use updated packages.\n"
     ]
    }
   ],
   "source": [
    "%pip install opencv-python"
   ]
  },
  {
   "cell_type": "code",
   "execution_count": 7,
   "metadata": {},
   "outputs": [],
   "source": [
    "import cv2\n",
    "import glob\n",
    "import os\n",
    "from zipfile import ZipFile\n"
   ]
  },
  {
   "cell_type": "code",
   "execution_count": 1,
   "metadata": {},
   "outputs": [],
   "source": [
    "# This routine comes from:\n",
    "# https://medium.com/@basit.javed.awan/resizing-multiple-images-and-saving-them-using-opencv-518f385c28d3\n",
    "# The strategy is to create a destiny folder, and deposit each resized file into it\n",
    "# You can select files using for img in glob.glob(inputfolder + \"/*.jpg\")\n",
    "# https://docs.python.org/3/library/glob.html\n",
    "# Then to zip our resized files and manually save into Google Drive\n",
    "# https://thecodinginterface.com/blog/python-zip-compression-extraction/\n",
    "# Original dataset: https://www.microsoft.com/en-us/download/details.aspx?id=54765"
   ]
  },
  {
   "cell_type": "code",
   "execution_count": 10,
   "metadata": {},
   "outputs": [
    {
     "name": "stdout",
     "output_type": "stream",
     "text": [
      "Error in image ./Cat/Thumbs.db\n",
      "Error in image ./Cat/11565.jpg\n",
      "Error in image ./Cat/10125.jpg\n",
      "Error in image ./Cat/4833.jpg\n",
      "Error in image ./Cat/2663.jpg\n"
     ]
    },
    {
     "name": "stderr",
     "output_type": "stream",
     "text": [
      "Corrupt JPEG data: 214 extraneous bytes before marker 0xd9\n"
     ]
    },
    {
     "name": "stdout",
     "output_type": "stream",
     "text": [
      "Error in image ./Cat/11210.jpg\n",
      "Error in image ./Cat/9778.jpg\n",
      "Error in image ./Cat/11935.jpg\n",
      "Error in image ./Cat/3491.jpg\n",
      "Error in image ./Cat/5553.jpg\n",
      "Error in image ./Cat/666.jpg\n",
      "Error in image ./Cat/936.jpg\n",
      "Error in image ./Cat/8470.jpg\n",
      "Error in image ./Cat/660.jpg\n",
      "Error in image ./Cat/850.jpg\n",
      "Error in image ./Cat/10820.jpg\n",
      "Error in image ./Cat/3300.jpg\n",
      "Error in image ./Cat/11874.jpg\n",
      "Error in image ./Cat/10404.jpg\n",
      "Error in image ./Cat/7978.jpg\n",
      "Error in image ./Cat/9565.jpg\n",
      "Error in image ./Cat/9171.jpg\n",
      "Error in image ./Cat/7968.jpg\n"
     ]
    },
    {
     "name": "stderr",
     "output_type": "stream",
     "text": [
      "Corrupt JPEG data: 1153 extraneous bytes before marker 0xd9\n",
      "Corrupt JPEG data: 99 extraneous bytes before marker 0xd9\n"
     ]
    },
    {
     "name": "stdout",
     "output_type": "stream",
     "text": [
      "Error in image ./Cat/140.jpg\n"
     ]
    },
    {
     "name": "stderr",
     "output_type": "stream",
     "text": [
      "Corrupt JPEG data: 128 extraneous bytes before marker 0xd9\n",
      "Corrupt JPEG data: 239 extraneous bytes before marker 0xd9\n"
     ]
    },
    {
     "name": "stdout",
     "output_type": "stream",
     "text": [
      "Error in image ./Cat/10501.jpg\n",
      "Processed images:12476\n"
     ]
    }
   ],
   "source": [
    "os.mkdir('ResizedCat')\n",
    "i = 0\n",
    "images = os.listdir('./Cat')\n",
    "list_images = [f'./Cat/{file_name}' for file_name in images]\n",
    "for img in list_images:\n",
    "    image = cv2.imread(img)\n",
    "    try:\n",
    "        img_resized = cv2.resize(image,(200,200))\n",
    "        cv2.imwrite('ResizedCat/image%04i.jpg' %i, img_resized)\n",
    "        i += 1\n",
    "    except:\n",
    "        print(f'Error in image {img}')\n",
    "print(f'Processed images:{i}')"
   ]
  },
  {
   "cell_type": "code",
   "execution_count": 11,
   "metadata": {},
   "outputs": [
    {
     "name": "stdout",
     "output_type": "stream",
     "text": [
      "Error in image ./Dog/Thumbs.db\n",
      "Error in image ./Dog/11410.jpg\n",
      "Error in image ./Dog/7133.jpg\n"
     ]
    },
    {
     "name": "stderr",
     "output_type": "stream",
     "text": [
      "Corrupt JPEG data: 65 extraneous bytes before marker 0xd9\n"
     ]
    },
    {
     "name": "stdout",
     "output_type": "stream",
     "text": [
      "Error in image ./Dog/6238.jpg\n",
      "Error in image ./Dog/2688.jpg\n",
      "Error in image ./Dog/5736.jpg\n",
      "Error in image ./Dog/4367.jpg\n",
      "Error in image ./Dog/3136.jpg\n",
      "Error in image ./Dog/10747.jpg\n",
      "Error in image ./Dog/1866.jpg\n",
      "Error in image ./Dog/6059.jpg\n"
     ]
    },
    {
     "name": "stderr",
     "output_type": "stream",
     "text": [
      "Corrupt JPEG data: 226 extraneous bytes before marker 0xd9\n"
     ]
    },
    {
     "name": "stdout",
     "output_type": "stream",
     "text": [
      "Error in image ./Dog/10797.jpg\n",
      "Error in image ./Dog/11853.jpg\n",
      "Error in image ./Dog/11675.jpg\n",
      "Error in image ./Dog/7369.jpg\n",
      "Error in image ./Dog/1308.jpg\n",
      "Error in image ./Dog/11702.jpg\n",
      "Error in image ./Dog/9188.jpg\n",
      "Error in image ./Dog/11849.jpg\n",
      "Error in image ./Dog/8730.jpg\n"
     ]
    },
    {
     "name": "stderr",
     "output_type": "stream",
     "text": [
      "Corrupt JPEG data: 162 extraneous bytes before marker 0xd9\n"
     ]
    },
    {
     "name": "stdout",
     "output_type": "stream",
     "text": [
      "Error in image ./Dog/5604.jpg\n",
      "Error in image ./Dog/3288.jpg\n"
     ]
    },
    {
     "name": "stderr",
     "output_type": "stream",
     "text": [
      "Warning: unknown JFIF revision number 0.00\n"
     ]
    },
    {
     "name": "stdout",
     "output_type": "stream",
     "text": [
      "Error in image ./Dog/7969.jpg\n",
      "Error in image ./Dog/2384.jpg\n",
      "Error in image ./Dog/10158.jpg\n",
      "Error in image ./Dog/6718.jpg\n",
      "Error in image ./Dog/10401.jpg\n"
     ]
    },
    {
     "name": "stderr",
     "output_type": "stream",
     "text": [
      "Corrupt JPEG data: 2230 extraneous bytes before marker 0xd9\n"
     ]
    },
    {
     "name": "stdout",
     "output_type": "stream",
     "text": [
      "Error in image ./Dog/2877.jpg\n",
      "Error in image ./Dog/7112.jpg\n"
     ]
    },
    {
     "name": "stderr",
     "output_type": "stream",
     "text": [
      "Corrupt JPEG data: 254 extraneous bytes before marker 0xd9\n"
     ]
    },
    {
     "name": "stdout",
     "output_type": "stream",
     "text": [
      "Error in image ./Dog/3588.jpg\n"
     ]
    },
    {
     "name": "stderr",
     "output_type": "stream",
     "text": [
      "Corrupt JPEG data: 399 extraneous bytes before marker 0xd9\n",
      "Corrupt JPEG data: 1403 extraneous bytes before marker 0xd9\n"
     ]
    },
    {
     "name": "stdout",
     "output_type": "stream",
     "text": [
      "Error in image ./Dog/7459.jpg\n",
      "Processed images:12470\n"
     ]
    }
   ],
   "source": [
    "os.mkdir('ResizedDog')\n",
    "i = 0\n",
    "images = os.listdir('./Dog')\n",
    "list_images = [f'./Dog/{file_name}' for file_name in images]\n",
    "for img in list_images:\n",
    "    image = cv2.imread(img)\n",
    "    try:\n",
    "        img_resized = cv2.resize(image,(200,200))\n",
    "        cv2.imwrite('ResizedDog/image%04i.jpg' %i, img_resized)\n",
    "        i += 1\n",
    "    except:\n",
    "        print(f'Error in image {img}')\n",
    "print(f'Processed images:{i}')"
   ]
  },
  {
   "cell_type": "code",
   "execution_count": 12,
   "metadata": {},
   "outputs": [],
   "source": [
    "cat_files = glob.glob('ResizedCat/*.jpg')\n",
    "dog_files = glob.glob('ResizedDog/*.jpg')"
   ]
  },
  {
   "cell_type": "code",
   "execution_count": 13,
   "metadata": {},
   "outputs": [],
   "source": [
    "with ZipFile('Cat.zip', mode='w') as zf:\n",
    "    for f in cat_files:\n",
    "        zf.write(f)\n",
    "\n",
    "with ZipFile('Dog.zip', mode='w') as zf:\n",
    "    for f in dog_files:\n",
    "        zf.write(f)"
   ]
  },
  {
   "cell_type": "code",
   "execution_count": null,
   "metadata": {},
   "outputs": [],
   "source": [
    "# I have the zip files available in my drive\n",
    "# Dogs: https://drive.google.com/file/d/1sdF4Bq5UiGWolomYwoQkC07VmbhxDUQZ/view?usp=sharing\n",
    "# Cats: https://drive.google.com/file/d/1dTNU2ENwNyEP91QU5w9K5nexfJIK829s/view?usp=sharing\n",
    "\n",
    "# That's all folks"
   ]
  }
 ],
 "metadata": {
  "kernelspec": {
   "display_name": "Python 3.9.9 64-bit",
   "language": "python",
   "name": "python3"
  },
  "language_info": {
   "codemirror_mode": {
    "name": "ipython",
    "version": 3
   },
   "file_extension": ".py",
   "mimetype": "text/x-python",
   "name": "python",
   "nbconvert_exporter": "python",
   "pygments_lexer": "ipython3",
   "version": "3.9.9"
  },
  "orig_nbformat": 4,
  "vscode": {
   "interpreter": {
    "hash": "397704579725e15f5c7cb49fe5f0341eb7531c82d19f2c29d197e8b64ab5776b"
   }
  }
 },
 "nbformat": 4,
 "nbformat_minor": 2
}
